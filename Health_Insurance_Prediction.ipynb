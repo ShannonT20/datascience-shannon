{
 "cells": [
  {
   "cell_type": "code",
   "execution_count": 40,
   "id": "dc49f9f7",
   "metadata": {},
   "outputs": [],
   "source": [
    "import numpy as np\n",
    "import pandas as pd\n",
    "import seaborn as sns\n",
    "from sklearn.model_selection import train_test_split\n",
    "from sklearn import svm\n",
    "from sklearn.metrics import accuracy_score"
   ]
  },
  {
   "cell_type": "markdown",
   "id": "c108ea88",
   "metadata": {},
   "source": [
    "Loading health data"
   ]
  },
  {
   "cell_type": "code",
   "execution_count": 41,
   "id": "3187270e",
   "metadata": {},
   "outputs": [],
   "source": [
    "data_health=pd.read_csv(\"C:/Users/hp/Videos/Dynasty/health_insurance.csv\")\n",
    "#for visualisation before preprocessing\n",
    "data_health_visualisation=data_health"
   ]
  },
  {
   "cell_type": "code",
   "execution_count": 42,
   "id": "7fb0fa69",
   "metadata": {},
   "outputs": [
    {
     "data": {
      "text/html": [
       "<div>\n",
       "<style scoped>\n",
       "    .dataframe tbody tr th:only-of-type {\n",
       "        vertical-align: middle;\n",
       "    }\n",
       "\n",
       "    .dataframe tbody tr th {\n",
       "        vertical-align: top;\n",
       "    }\n",
       "\n",
       "    .dataframe thead th {\n",
       "        text-align: right;\n",
       "    }\n",
       "</style>\n",
       "<table border=\"1\" class=\"dataframe\">\n",
       "  <thead>\n",
       "    <tr style=\"text-align: right;\">\n",
       "      <th></th>\n",
       "      <th>age</th>\n",
       "      <th>sex</th>\n",
       "      <th>bmi</th>\n",
       "      <th>children</th>\n",
       "      <th>smoker</th>\n",
       "      <th>region</th>\n",
       "      <th>salary</th>\n",
       "      <th>insured</th>\n",
       "    </tr>\n",
       "  </thead>\n",
       "  <tbody>\n",
       "    <tr>\n",
       "      <th>0</th>\n",
       "      <td>19</td>\n",
       "      <td>female</td>\n",
       "      <td>27.900</td>\n",
       "      <td>0</td>\n",
       "      <td>yes</td>\n",
       "      <td>southwest</td>\n",
       "      <td>83039</td>\n",
       "      <td>1</td>\n",
       "    </tr>\n",
       "    <tr>\n",
       "      <th>1</th>\n",
       "      <td>18</td>\n",
       "      <td>male</td>\n",
       "      <td>33.770</td>\n",
       "      <td>1</td>\n",
       "      <td>no</td>\n",
       "      <td>southeast</td>\n",
       "      <td>68286</td>\n",
       "      <td>1</td>\n",
       "    </tr>\n",
       "    <tr>\n",
       "      <th>2</th>\n",
       "      <td>28</td>\n",
       "      <td>male</td>\n",
       "      <td>33.000</td>\n",
       "      <td>3</td>\n",
       "      <td>no</td>\n",
       "      <td>southeast</td>\n",
       "      <td>18873</td>\n",
       "      <td>0</td>\n",
       "    </tr>\n",
       "    <tr>\n",
       "      <th>3</th>\n",
       "      <td>33</td>\n",
       "      <td>male</td>\n",
       "      <td>22.705</td>\n",
       "      <td>0</td>\n",
       "      <td>no</td>\n",
       "      <td>northwest</td>\n",
       "      <td>77377</td>\n",
       "      <td>1</td>\n",
       "    </tr>\n",
       "    <tr>\n",
       "      <th>4</th>\n",
       "      <td>32</td>\n",
       "      <td>male</td>\n",
       "      <td>28.880</td>\n",
       "      <td>0</td>\n",
       "      <td>no</td>\n",
       "      <td>northwest</td>\n",
       "      <td>42428</td>\n",
       "      <td>1</td>\n",
       "    </tr>\n",
       "  </tbody>\n",
       "</table>\n",
       "</div>"
      ],
      "text/plain": [
       "   age     sex     bmi  children smoker     region  salary  insured\n",
       "0   19  female  27.900         0    yes  southwest   83039        1\n",
       "1   18    male  33.770         1     no  southeast   68286        1\n",
       "2   28    male  33.000         3     no  southeast   18873        0\n",
       "3   33    male  22.705         0     no  northwest   77377        1\n",
       "4   32    male  28.880         0     no  northwest   42428        1"
      ]
     },
     "execution_count": 42,
     "metadata": {},
     "output_type": "execute_result"
    }
   ],
   "source": [
    "#showing the first 10 rows\n",
    "data_health.head()"
   ]
  },
  {
   "cell_type": "markdown",
   "id": "9ba08eb7",
   "metadata": {},
   "source": [
    "Data Preprossessing\n"
   ]
  },
  {
   "cell_type": "code",
   "execution_count": 43,
   "id": "da9fc332",
   "metadata": {},
   "outputs": [
    {
     "data": {
      "text/plain": [
       "(1338, 8)"
      ]
     },
     "execution_count": 43,
     "metadata": {},
     "output_type": "execute_result"
    }
   ],
   "source": [
    "#shape of dataframe\n",
    "data_health.shape"
   ]
  },
  {
   "cell_type": "code",
   "execution_count": 44,
   "id": "67131bff",
   "metadata": {},
   "outputs": [
    {
     "data": {
      "text/html": [
       "<div>\n",
       "<style scoped>\n",
       "    .dataframe tbody tr th:only-of-type {\n",
       "        vertical-align: middle;\n",
       "    }\n",
       "\n",
       "    .dataframe tbody tr th {\n",
       "        vertical-align: top;\n",
       "    }\n",
       "\n",
       "    .dataframe thead th {\n",
       "        text-align: right;\n",
       "    }\n",
       "</style>\n",
       "<table border=\"1\" class=\"dataframe\">\n",
       "  <thead>\n",
       "    <tr style=\"text-align: right;\">\n",
       "      <th></th>\n",
       "      <th>age</th>\n",
       "      <th>bmi</th>\n",
       "      <th>children</th>\n",
       "      <th>salary</th>\n",
       "      <th>insured</th>\n",
       "    </tr>\n",
       "  </thead>\n",
       "  <tbody>\n",
       "    <tr>\n",
       "      <th>count</th>\n",
       "      <td>1338.000000</td>\n",
       "      <td>1338.000000</td>\n",
       "      <td>1338.000000</td>\n",
       "      <td>1338.000000</td>\n",
       "      <td>1338.000000</td>\n",
       "    </tr>\n",
       "    <tr>\n",
       "      <th>mean</th>\n",
       "      <td>39.207025</td>\n",
       "      <td>30.663397</td>\n",
       "      <td>1.094918</td>\n",
       "      <td>55159.035874</td>\n",
       "      <td>0.666667</td>\n",
       "    </tr>\n",
       "    <tr>\n",
       "      <th>std</th>\n",
       "      <td>14.049960</td>\n",
       "      <td>6.098187</td>\n",
       "      <td>1.205493</td>\n",
       "      <td>26355.547662</td>\n",
       "      <td>0.471581</td>\n",
       "    </tr>\n",
       "    <tr>\n",
       "      <th>min</th>\n",
       "      <td>18.000000</td>\n",
       "      <td>15.960000</td>\n",
       "      <td>0.000000</td>\n",
       "      <td>10038.000000</td>\n",
       "      <td>0.000000</td>\n",
       "    </tr>\n",
       "    <tr>\n",
       "      <th>25%</th>\n",
       "      <td>27.000000</td>\n",
       "      <td>26.296250</td>\n",
       "      <td>0.000000</td>\n",
       "      <td>32053.000000</td>\n",
       "      <td>0.000000</td>\n",
       "    </tr>\n",
       "    <tr>\n",
       "      <th>50%</th>\n",
       "      <td>39.000000</td>\n",
       "      <td>30.400000</td>\n",
       "      <td>1.000000</td>\n",
       "      <td>56294.000000</td>\n",
       "      <td>1.000000</td>\n",
       "    </tr>\n",
       "    <tr>\n",
       "      <th>75%</th>\n",
       "      <td>51.000000</td>\n",
       "      <td>34.693750</td>\n",
       "      <td>2.000000</td>\n",
       "      <td>77442.250000</td>\n",
       "      <td>1.000000</td>\n",
       "    </tr>\n",
       "    <tr>\n",
       "      <th>max</th>\n",
       "      <td>64.000000</td>\n",
       "      <td>53.130000</td>\n",
       "      <td>5.000000</td>\n",
       "      <td>99946.000000</td>\n",
       "      <td>1.000000</td>\n",
       "    </tr>\n",
       "  </tbody>\n",
       "</table>\n",
       "</div>"
      ],
      "text/plain": [
       "               age          bmi     children        salary      insured\n",
       "count  1338.000000  1338.000000  1338.000000   1338.000000  1338.000000\n",
       "mean     39.207025    30.663397     1.094918  55159.035874     0.666667\n",
       "std      14.049960     6.098187     1.205493  26355.547662     0.471581\n",
       "min      18.000000    15.960000     0.000000  10038.000000     0.000000\n",
       "25%      27.000000    26.296250     0.000000  32053.000000     0.000000\n",
       "50%      39.000000    30.400000     1.000000  56294.000000     1.000000\n",
       "75%      51.000000    34.693750     2.000000  77442.250000     1.000000\n",
       "max      64.000000    53.130000     5.000000  99946.000000     1.000000"
      ]
     },
     "execution_count": 44,
     "metadata": {},
     "output_type": "execute_result"
    }
   ],
   "source": [
    "#statistical measures\n",
    "data_health.describe()"
   ]
  },
  {
   "cell_type": "code",
   "execution_count": 45,
   "id": "dd202052",
   "metadata": {},
   "outputs": [],
   "source": [
    "#as we can see there is inconsistence in range of values because of means showed.Data normalisation will make some statistical analysis easier\n",
    "#salary will impact more on our analysis because it as a large mean as compared to age,bmi and children\n",
    "#Data normalisation \n",
    "from sklearn import preprocessing\n",
    "def normalise(x):\n",
    "    min_max_scaler=preprocessing.MinMaxScaler().fit_transform(x)\n",
    "    return min_max_scaler\n",
    "#data_health[\"age\"]=normalise(data_health[[\"age\"]])\n",
    "#data_health[\"bmi\"]=normalise(data_health[[\"bmi\"]])\n",
    "#data_health[\"salary\"]=normalise(data_health[[\"salary\"]])"
   ]
  },
  {
   "cell_type": "code",
   "execution_count": 46,
   "id": "24d5b564",
   "metadata": {
    "scrolled": true
   },
   "outputs": [
    {
     "data": {
      "text/html": [
       "<div>\n",
       "<style scoped>\n",
       "    .dataframe tbody tr th:only-of-type {\n",
       "        vertical-align: middle;\n",
       "    }\n",
       "\n",
       "    .dataframe tbody tr th {\n",
       "        vertical-align: top;\n",
       "    }\n",
       "\n",
       "    .dataframe thead th {\n",
       "        text-align: right;\n",
       "    }\n",
       "</style>\n",
       "<table border=\"1\" class=\"dataframe\">\n",
       "  <thead>\n",
       "    <tr style=\"text-align: right;\">\n",
       "      <th></th>\n",
       "      <th>age</th>\n",
       "      <th>sex</th>\n",
       "      <th>bmi</th>\n",
       "      <th>children</th>\n",
       "      <th>smoker</th>\n",
       "      <th>region</th>\n",
       "      <th>salary</th>\n",
       "      <th>insured</th>\n",
       "    </tr>\n",
       "  </thead>\n",
       "  <tbody>\n",
       "    <tr>\n",
       "      <th>0</th>\n",
       "      <td>19</td>\n",
       "      <td>female</td>\n",
       "      <td>27.900</td>\n",
       "      <td>0</td>\n",
       "      <td>yes</td>\n",
       "      <td>southwest</td>\n",
       "      <td>83039</td>\n",
       "      <td>1</td>\n",
       "    </tr>\n",
       "    <tr>\n",
       "      <th>1</th>\n",
       "      <td>18</td>\n",
       "      <td>male</td>\n",
       "      <td>33.770</td>\n",
       "      <td>1</td>\n",
       "      <td>no</td>\n",
       "      <td>southeast</td>\n",
       "      <td>68286</td>\n",
       "      <td>1</td>\n",
       "    </tr>\n",
       "    <tr>\n",
       "      <th>2</th>\n",
       "      <td>28</td>\n",
       "      <td>male</td>\n",
       "      <td>33.000</td>\n",
       "      <td>3</td>\n",
       "      <td>no</td>\n",
       "      <td>southeast</td>\n",
       "      <td>18873</td>\n",
       "      <td>0</td>\n",
       "    </tr>\n",
       "    <tr>\n",
       "      <th>3</th>\n",
       "      <td>33</td>\n",
       "      <td>male</td>\n",
       "      <td>22.705</td>\n",
       "      <td>0</td>\n",
       "      <td>no</td>\n",
       "      <td>northwest</td>\n",
       "      <td>77377</td>\n",
       "      <td>1</td>\n",
       "    </tr>\n",
       "    <tr>\n",
       "      <th>4</th>\n",
       "      <td>32</td>\n",
       "      <td>male</td>\n",
       "      <td>28.880</td>\n",
       "      <td>0</td>\n",
       "      <td>no</td>\n",
       "      <td>northwest</td>\n",
       "      <td>42428</td>\n",
       "      <td>1</td>\n",
       "    </tr>\n",
       "  </tbody>\n",
       "</table>\n",
       "</div>"
      ],
      "text/plain": [
       "   age     sex     bmi  children smoker     region  salary  insured\n",
       "0   19  female  27.900         0    yes  southwest   83039        1\n",
       "1   18    male  33.770         1     no  southeast   68286        1\n",
       "2   28    male  33.000         3     no  southeast   18873        0\n",
       "3   33    male  22.705         0     no  northwest   77377        1\n",
       "4   32    male  28.880         0     no  northwest   42428        1"
      ]
     },
     "execution_count": 46,
     "metadata": {},
     "output_type": "execute_result"
    }
   ],
   "source": [
    "data_health.head()\n",
    "#we can see that our data has been normalised"
   ]
  },
  {
   "cell_type": "code",
   "execution_count": 47,
   "id": "39ec6505",
   "metadata": {},
   "outputs": [
    {
     "data": {
      "text/plain": [
       "(array(['female', 'male'], dtype=object),\n",
       " array(['yes', 'no'], dtype=object),\n",
       " array(['southwest', 'southeast', 'northwest', 'northeast'], dtype=object))"
      ]
     },
     "execution_count": 47,
     "metadata": {},
     "output_type": "execute_result"
    }
   ],
   "source": [
    "#checking contesnt in smoker and region\n",
    "data_health[\"sex\"].unique(),data_health[\"smoker\"].unique(),data_health[\"region\"].unique()"
   ]
  },
  {
   "cell_type": "code",
   "execution_count": 48,
   "id": "c19e6258",
   "metadata": {},
   "outputs": [],
   "source": [
    "#label encoding for smoker and region\n",
    "data_health.replace({\"sex\":{'female':0,'male':1}},inplace=True)\n",
    "data_health.replace({\"smoker\":{'no':0,'yes':1}},inplace=True)\n",
    "data_health.replace({\"region\":{'southwest':0,'southeast':1,'northwest':2,'northeast':3}},inplace=True)"
   ]
  },
  {
   "cell_type": "code",
   "execution_count": 49,
   "id": "39594cfe",
   "metadata": {},
   "outputs": [
    {
     "data": {
      "text/html": [
       "<div>\n",
       "<style scoped>\n",
       "    .dataframe tbody tr th:only-of-type {\n",
       "        vertical-align: middle;\n",
       "    }\n",
       "\n",
       "    .dataframe tbody tr th {\n",
       "        vertical-align: top;\n",
       "    }\n",
       "\n",
       "    .dataframe thead th {\n",
       "        text-align: right;\n",
       "    }\n",
       "</style>\n",
       "<table border=\"1\" class=\"dataframe\">\n",
       "  <thead>\n",
       "    <tr style=\"text-align: right;\">\n",
       "      <th></th>\n",
       "      <th>age</th>\n",
       "      <th>sex</th>\n",
       "      <th>bmi</th>\n",
       "      <th>children</th>\n",
       "      <th>smoker</th>\n",
       "      <th>region</th>\n",
       "      <th>salary</th>\n",
       "      <th>insured</th>\n",
       "    </tr>\n",
       "  </thead>\n",
       "  <tbody>\n",
       "    <tr>\n",
       "      <th>0</th>\n",
       "      <td>19</td>\n",
       "      <td>0</td>\n",
       "      <td>27.900</td>\n",
       "      <td>0</td>\n",
       "      <td>1</td>\n",
       "      <td>0</td>\n",
       "      <td>83039</td>\n",
       "      <td>1</td>\n",
       "    </tr>\n",
       "    <tr>\n",
       "      <th>1</th>\n",
       "      <td>18</td>\n",
       "      <td>1</td>\n",
       "      <td>33.770</td>\n",
       "      <td>1</td>\n",
       "      <td>0</td>\n",
       "      <td>1</td>\n",
       "      <td>68286</td>\n",
       "      <td>1</td>\n",
       "    </tr>\n",
       "    <tr>\n",
       "      <th>2</th>\n",
       "      <td>28</td>\n",
       "      <td>1</td>\n",
       "      <td>33.000</td>\n",
       "      <td>3</td>\n",
       "      <td>0</td>\n",
       "      <td>1</td>\n",
       "      <td>18873</td>\n",
       "      <td>0</td>\n",
       "    </tr>\n",
       "    <tr>\n",
       "      <th>3</th>\n",
       "      <td>33</td>\n",
       "      <td>1</td>\n",
       "      <td>22.705</td>\n",
       "      <td>0</td>\n",
       "      <td>0</td>\n",
       "      <td>2</td>\n",
       "      <td>77377</td>\n",
       "      <td>1</td>\n",
       "    </tr>\n",
       "    <tr>\n",
       "      <th>4</th>\n",
       "      <td>32</td>\n",
       "      <td>1</td>\n",
       "      <td>28.880</td>\n",
       "      <td>0</td>\n",
       "      <td>0</td>\n",
       "      <td>2</td>\n",
       "      <td>42428</td>\n",
       "      <td>1</td>\n",
       "    </tr>\n",
       "  </tbody>\n",
       "</table>\n",
       "</div>"
      ],
      "text/plain": [
       "   age  sex     bmi  children  smoker  region  salary  insured\n",
       "0   19    0  27.900         0       1       0   83039        1\n",
       "1   18    1  33.770         1       0       1   68286        1\n",
       "2   28    1  33.000         3       0       1   18873        0\n",
       "3   33    1  22.705         0       0       2   77377        1\n",
       "4   32    1  28.880         0       0       2   42428        1"
      ]
     },
     "execution_count": 49,
     "metadata": {},
     "output_type": "execute_result"
    }
   ],
   "source": [
    "#see the encoded data\n",
    "data_health.head()"
   ]
  },
  {
   "cell_type": "markdown",
   "id": "5def0a02",
   "metadata": {},
   "source": [
    "Data Visualisation"
   ]
  },
  {
   "cell_type": "code",
   "execution_count": 50,
   "id": "f034bb9c",
   "metadata": {
    "scrolled": true
   },
   "outputs": [
    {
     "data": {
      "text/plain": [
       "<AxesSubplot:xlabel='region', ylabel='count'>"
      ]
     },
     "execution_count": 50,
     "metadata": {},
     "output_type": "execute_result"
    },
    {
     "data": {
      "image/png": "[encoded data removed]",
      "text/plain": [
       "<Figure size 1152x720 with 4 Axes>"
      ]
     },
     "metadata": {
      "needs_background": "light"
     },
     "output_type": "display_data"
    }
   ],
   "source": [
    "#Visualizing the relation between Target and Feature variables\n",
    "import matplotlib.pyplot as plt\n",
    "\n",
    "fig,ax=plt.subplots(2,2,figsize=(16,10))\n",
    "sns.countplot(x=\"sex\",hue=\"insured\",data=data_health_visualisation,ax=ax[0][0])\n",
    "sns.countplot(x=\"children\",hue=\"insured\",data=data_health_visualisation,ax=ax[0][1])\n",
    "sns.countplot(x=\"smoker\",hue=\"insured\",data=data_health_visualisation,ax=ax[1][0])\n",
    "sns.countplot(x=\"region\",hue=\"insured\",data=data_health_visualisation,ax=ax[1][1])"
   ]
  },
  {
   "cell_type": "markdown",
   "id": "ed19b4e9",
   "metadata": {},
   "source": [
    "Pre-Modelling"
   ]
  },
  {
   "cell_type": "code",
   "execution_count": 51,
   "id": "a200e55d",
   "metadata": {
    "scrolled": true
   },
   "outputs": [
    {
     "name": "stdout",
     "output_type": "stream",
     "text": [
      "age  :  int64\n",
      "sex  :  int64\n",
      "bmi  :  float64\n",
      "children  :  int64\n",
      "smoker  :  int64\n",
      "region  :  int64\n",
      "salary  :  int64\n",
      "insured  :  int64\n"
     ]
    }
   ],
   "source": [
    "#Check if dataset is numerical or float for modelling\n",
    "for i in data_health:\n",
    "    print(data_health[i].name,\" : \",data_health[i].dtype)"
   ]
  },
  {
   "cell_type": "code",
   "execution_count": 69,
   "id": "ab6cdfd1",
   "metadata": {},
   "outputs": [],
   "source": [
    "#Data seperation into Feature and Target \n",
    "X=data_health[[\"age\",\"sex\",\"bmi\",\"children\",\"smoker\",\"region\",\"salary\"]].values\n",
    "Y=data_health[\"insured\"].values"
   ]
  },
  {
   "cell_type": "code",
   "execution_count": 73,
   "id": "bca20bc0",
   "metadata": {},
   "outputs": [
    {
     "name": "stdout",
     "output_type": "stream",
     "text": [
      "[[0.02173913 0.         0.3212268  ... 1.         0.         0.81195222]\n",
      " [0.         1.         0.47914985 ... 0.         0.33333333 0.64786226]\n",
      " [0.2173913  1.         0.45843422 ... 0.         0.33333333 0.09826712]\n",
      " ...\n",
      " [0.         0.         0.56201238 ... 0.         0.33333333 0.52238955]\n",
      " [0.06521739 0.         0.26472962 ... 0.         0.         0.92413356]\n",
      " [0.93478261 0.         0.35270379 ... 1.         0.66666667 0.95963652]]\n"
     ]
    }
   ],
   "source": [
    "#Values for Feature value\n",
    "from sklearn import preprocessing\n",
    "def normalise(x):\n",
    "    min_max_scaler=preprocessing.MinMaxScaler().fit_transform(x)\n",
    "    return min_max_scaler\n",
    "X=normalise(X)\n",
    "print(X)"
   ]
  },
  {
   "cell_type": "code",
   "execution_count": 74,
   "id": "a4fb8433",
   "metadata": {},
   "outputs": [
    {
     "name": "stdout",
     "output_type": "stream",
     "text": [
      "[1 1 0 ... 0 1 1]\n"
     ]
    }
   ],
   "source": [
    "#Values for Target variable\n",
    "print(Y)"
   ]
  },
  {
   "cell_type": "markdown",
   "id": "901ee893",
   "metadata": {},
   "source": [
    "Train Test Split"
   ]
  },
  {
   "cell_type": "code",
   "execution_count": 75,
   "id": "7a5ab220",
   "metadata": {},
   "outputs": [],
   "source": [
    "#Split the data into train and test data\n",
    "X_train,X_test,Y_train,Y_test=train_test_split(X,Y,test_size=.2,random_state=2)"
   ]
  },
  {
   "cell_type": "code",
   "execution_count": 76,
   "id": "9f0dd461",
   "metadata": {},
   "outputs": [
    {
     "name": "stdout",
     "output_type": "stream",
     "text": [
      "(1338, 7) (1070, 7) (268, 7)\n"
     ]
    }
   ],
   "source": [
    "#Shape of X train,X test,Y train,Y test\n",
    "print(X.shape,X_train.shape,X_test.shape)\n"
   ]
  },
  {
   "cell_type": "markdown",
   "id": "d8f35a8a",
   "metadata": {},
   "source": [
    "Model Building and Training Model for Decision Tree"
   ]
  },
  {
   "cell_type": "code",
   "execution_count": 77,
   "id": "e9864e94",
   "metadata": {},
   "outputs": [
    {
     "data": {
      "text/plain": [
       "DecisionTreeClassifier(criterion='entropy', random_state=0)"
      ]
     },
     "execution_count": 77,
     "metadata": {},
     "output_type": "execute_result"
    }
   ],
   "source": [
    "#Fitting decision classifier to the model\n",
    "from sklearn.tree import DecisionTreeClassifier  \n",
    "data_health_classifier= DecisionTreeClassifier(criterion='entropy',random_state=0)  \n",
    "data_health_classifier.fit(X_train, Y_train)  "
   ]
  },
  {
   "cell_type": "code",
   "execution_count": 78,
   "id": "41be0cf6",
   "metadata": {},
   "outputs": [],
   "source": [
    "#Predicting the test set result  \n",
    "Y_pred=data_health_classifier.predict(X_test)  "
   ]
  },
  {
   "cell_type": "markdown",
   "id": "3e987ee6",
   "metadata": {},
   "source": [
    "Model Evaluation Decision Tree"
   ]
  },
  {
   "cell_type": "code",
   "execution_count": 106,
   "id": "4f1bc4aa",
   "metadata": {},
   "outputs": [
    {
     "name": "stdout",
     "output_type": "stream",
     "text": [
      "The accuracy of Decision Trees is:  1.0\n"
     ]
    }
   ],
   "source": [
    "#Accuracy of the Decision Tree\n",
    "from sklearn import metrics\n",
    "print('The accuracy of Decision Trees is: ', metrics.accuracy_score(Y_pred, Y_test))"
   ]
  },
  {
   "cell_type": "markdown",
   "id": "088026ab",
   "metadata": {},
   "source": [
    "Model Building and Training for KNN"
   ]
  },
  {
   "cell_type": "code",
   "execution_count": 107,
   "id": "2c33fe63",
   "metadata": {},
   "outputs": [
    {
     "data": {
      "text/plain": [
       "KNeighborsClassifier(n_neighbors=9)"
      ]
     },
     "execution_count": 107,
     "metadata": {},
     "output_type": "execute_result"
    }
   ],
   "source": [
    "#Fitting the KNN\n",
    "from sklearn.neighbors import KNeighborsClassifier  \n",
    "data_health_knn=KNeighborsClassifier(n_neighbors=9)\n",
    "data_health_knn.fit(X_train,Y_train)"
   ]
  },
  {
   "cell_type": "code",
   "execution_count": 108,
   "id": "031772c6",
   "metadata": {},
   "outputs": [],
   "source": [
    "#Predicitng on thr test set results\n",
    "Y_pred_knn=data_health_knn.predict(X_test)"
   ]
  },
  {
   "cell_type": "markdown",
   "id": "9cb03f52",
   "metadata": {},
   "source": [
    "Model Evaluation KNN"
   ]
  },
  {
   "cell_type": "code",
   "execution_count": 109,
   "id": "80d29ada",
   "metadata": {},
   "outputs": [
    {
     "name": "stdout",
     "output_type": "stream",
     "text": [
      "The accuracy of KNN is:  0.8283582089552238\n"
     ]
    }
   ],
   "source": [
    "#Accuracy of the KNN\n",
    "from sklearn import metrics\n",
    "print('The accuracy of KNN is: ', metrics.accuracy_score(Y_pred_knn, Y_test))"
   ]
  },
  {
   "cell_type": "code",
   "execution_count": null,
   "id": "54c92110",
   "metadata": {},
   "outputs": [],
   "source": []
  }
 ],
 "metadata": {
  "kernelspec": {
   "display_name": "Python 3 (ipykernel)",
   "language": "python",
   "name": "python3"
  },
  "language_info": {
   "codemirror_mode": {
    "name": "ipython",
    "version": 3
   },
   "file_extension": ".py",
   "mimetype": "text/x-python",
   "name": "python",
   "nbconvert_exporter": "python",
   "pygments_lexer": "ipython3",
   "version": "3.9.0"
  }
 },
 "nbformat": 4,
 "nbformat_minor": 5
}
